{
 "cells": [
  {
   "cell_type": "code",
   "execution_count": null,
   "metadata": {},
   "outputs": [],
   "source": [
    "import torch\n",
    "from prediction import run_model\n",
    "\n",
    "SEQUENCE = ''\n",
    "NUCLEUS_IMAGE_PATH = ''\n",
    "PROTEIN_IMAGE_PATH = ''\n",
    "MODEL_CKPT_PATH = ''\n",
    "MODEL_CONFIG_PATH = ''\n",
    "DEVICE = torch.device(\"cuda\" if torch.cuda.is_available() else \"cpu\")\n",
    "\n",
    "run_model(\n",
    "    'image',\n",
    "    SEQUENCE,\n",
    "    NUCLEUS_IMAGE_PATH,\n",
    "    PROTEIN_IMAGE_PATH,\n",
    "    MODEL_CKPT_PATH,\n",
    "    MODEL_CONFIG_PATH,\n",
    "    DEVICE\n",
    ")"
   ]
  }
 ],
 "metadata": {
  "language_info": {
   "name": "python"
  },
  "orig_nbformat": 4
 },
 "nbformat": 4,
 "nbformat_minor": 2
}

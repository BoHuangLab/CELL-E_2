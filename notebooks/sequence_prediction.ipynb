{
 "cells": [
  {
   "cell_type": "code",
   "execution_count": null,
   "metadata": {},
   "outputs": [],
   "source": [
    "import torch\n",
    "from prediction import run_model\n",
    "\n",
    "# Make sure SEQUENCE contains <mask>, otherwise it will predict nothing\n",
    "SEQUENCE = 'AAAA'\n",
    "NUCLEUS_IMAGE_PATH = ''\n",
    "PROTEIN_IMAGE_PATH = ''\n",
    "MODEL_CKPT_PATH = ''\n",
    "MODEL_CONFIG_PATH = ''\n",
    "DEVICE = torch.device(\"cuda\" if torch.cuda.is_available() else \"cpu\")\n",
    "\n",
    "run_model(\n",
    "    'sequence',\n",
    "    SEQUENCE,\n",
    "    NUCLEUS_IMAGE_PATH,\n",
    "    PROTEIN_IMAGE_PATH,\n",
    "    MODEL_CKPT_PATH,\n",
    "    MODEL_CONFIG_PATH,\n",
    "    DEVICE\n",
    ")"
   ]
  }
 ],
 "metadata": {
  "kernelspec": {
   "display_name": "env",
   "language": "python",
   "name": "python3"
  },
  "language_info": {
   "codemirror_mode": {
    "name": "ipython",
    "version": 3
   },
   "file_extension": ".py",
   "mimetype": "text/x-python",
   "name": "python",
   "nbconvert_exporter": "python",
   "pygments_lexer": "ipython3",
   "version": "3.11.2"
  },
  "orig_nbformat": 4
 },
 "nbformat": 4,
 "nbformat_minor": 2
}
